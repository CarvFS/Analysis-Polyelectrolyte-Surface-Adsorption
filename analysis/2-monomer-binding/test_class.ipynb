{
 "cells": [
  {
   "cell_type": "markdown",
   "metadata": {},
   "source": [
    "# Analyze sampling of the OPES Explore production simulation"
   ]
  },
  {
   "cell_type": "markdown",
   "metadata": {},
   "source": [
    "## Preparation"
   ]
  },
  {
   "cell_type": "code",
   "execution_count": null,
   "metadata": {},
   "outputs": [],
   "source": [
    "%matplotlib widget\n",
    "%load_ext autoreload\n",
    "%autoreload 2"
   ]
  },
  {
   "cell_type": "markdown",
   "metadata": {},
   "source": [
    "### Imports"
   ]
  },
  {
   "cell_type": "code",
   "execution_count": null,
   "metadata": {},
   "outputs": [],
   "source": [
    "# standard library\n",
    "import logging\n",
    "import os\n",
    "from pathlib import Path    \n",
    "import sys\n",
    "\n",
    "# third-party packages\n",
    "import cmasher as cmr\n",
    "import matplotlib.pyplot as plt\n",
    "import matplotlib.animation as animation\n",
    "import numpy as np\n",
    "import pandas as pd\n",
    "from scipy import stats, integrate\n",
    "from tqdm.notebook import tqdm\n",
    "\n",
    "# notebook\n",
    "from IPython import display\n",
    "\n",
    "# get absolute path to file's parent directory\n",
    "dir_proj_base = Path(os.getcwd()).resolve().parents[1]\n",
    "sys.path.insert(0, f\"{dir_proj_base}/src\")\n",
    "\n",
    "# Internal dependencies\n",
    "from render.figure_style import set_style  # noqa: E402\n",
    "from data.pipeline import DataPipeline  # noqa: E402\n"
   ]
  },
  {
   "cell_type": "markdown",
   "metadata": {},
   "source": [
    "### Logging and formatting"
   ]
  },
  {
   "cell_type": "code",
   "execution_count": null,
   "metadata": {},
   "outputs": [],
   "source": [
    "# notebook logger has DEBUG level\n",
    "log = logging.getLogger(\"notebook\")\n",
    "log.setLevel(logging.DEBUG)\n",
    "\n",
    "# console handler\n",
    "format = logging.Formatter(\"%(asctime)s - %(name)s - %(levelname)s - %(message)s\")\n",
    "ch = logging.StreamHandler(sys.stdout)\n",
    "ch.setFormatter(format)\n",
    "log.addHandler(ch)"
   ]
  },
  {
   "cell_type": "code",
   "execution_count": null,
   "metadata": {},
   "outputs": [],
   "source": [
    "# set plotting style\n",
    "set_style()"
   ]
  },
  {
   "cell_type": "markdown",
   "metadata": {},
   "source": [
    "## Parameters"
   ]
  },
  {
   "cell_type": "markdown",
   "metadata": {},
   "source": [
    "### System"
   ]
  },
  {
   "cell_type": "markdown",
   "metadata": {},
   "source": [
    "Data input from the production simulation"
   ]
  },
  {
   "cell_type": "code",
   "execution_count": null,
   "metadata": {},
   "outputs": [],
   "source": [
    "# paths\n",
    "sim_tag = Path(\"completed/sjobid_0-calcite-104surface-5nm_surface-8nm_vertical-1chain-PAcr-8mer-0Crb-0Ca-8Na-0Cl-300K-1bar-NVT\")\n",
    "data_dir_base = Path(\n",
    "    f\"/media/aglisman/Linux_Overflow/home/aglisman/VSCodeProjects/Polyelectrolyte-Surface-Adsorption/data\"\n",
    ") / sim_tag\n"
   ]
  },
  {
   "cell_type": "markdown",
   "metadata": {},
   "source": [
    "System configuration and free energy analysis parameters"
   ]
  },
  {
   "cell_type": "code",
   "execution_count": null,
   "metadata": {},
   "outputs": [],
   "source": [
    "# set thermal energy\n",
    "TEMPERATURE_K: float = 300  # [K] # system temperature\n",
    "\n",
    "# calculate free energy surface at the end of the simulation\n",
    "cv = \"dist_chain.z\"\n",
    "cv_offset = -0.3\n",
    "start_frame_perc = 0.10\n",
    "bandwidth = 0.075\n",
    "min_val = 0.0\n",
    "max_val = 2.5\n",
    "n_grid = 500\n",
    "\n",
    "# calculate free energy difference between the two states\n",
    "lower_well = (0.5, 0.9)\n",
    "upper_well = (1.6, 2.0)\n",
    "n_timestep_plot = 250\n",
    "\n",
    "# plotting parameters\n",
    "ymax = 2\n"
   ]
  },
  {
   "cell_type": "markdown",
   "metadata": {},
   "source": [
    "## Load data"
   ]
  },
  {
   "cell_type": "code",
   "execution_count": null,
   "metadata": {},
   "outputs": [],
   "source": [
    "# create data pipeline\n",
    "pipeline = DataPipeline(\n",
    "    data_path_base=data_dir_base,\n",
    "    temperature=TEMPERATURE_K,\n",
    "    verbose=True\n",
    ")\n"
   ]
  },
  {
   "cell_type": "code",
   "execution_count": null,
   "metadata": {},
   "outputs": [],
   "source": [
    "# load data from Gromacs files and save as parquet\n",
    "pipeline.save_plumed_colvar()"
   ]
  },
  {
   "cell_type": "markdown",
   "metadata": {},
   "source": [
    "## Visualize data"
   ]
  },
  {
   "cell_type": "markdown",
   "metadata": {},
   "source": [
    "### Convergence of the bias potential"
   ]
  },
  {
   "cell_type": "code",
   "execution_count": null,
   "metadata": {},
   "outputs": [],
   "source": [
    "def fig_bias_dynamics(df: pd.DataFrame, fname: str) -> plt.Figure:\n",
    "    fig = plt.figure(figsize=(22, 9))\n",
    "\n",
    "    # CV: curve should show rapid sampling of the entire CV space\n",
    "    ax1 = fig.add_subplot(241)\n",
    "    ax1.set_xlabel(\"Time [ns]\", labelpad=10)\n",
    "    ax1.set_ylabel(\"$z$ [nm]\", labelpad=10)\n",
    "    ax1.set_title(\"Collective Variable\", pad=10)\n",
    "    ax1.scatter(df[\"time\"]/1e3, df[\"dist_chain.z\"], s=2, alpha=0.2)\n",
    "\n",
    "    # OPES Bias: bias should be slowly increasing over time\n",
    "    ax2 = fig.add_subplot(242)\n",
    "    ax2.set_xlabel(\"Time [ns]\", labelpad=10)\n",
    "    ax2.set_ylabel(\"OPES Bias [kJ/mol]\", labelpad=10)\n",
    "    ax2.set_title(\"OPES Bias\", pad=10)\n",
    "    ax2.scatter(df[\"time\"]/1e3, df[\"opes.bias\"], s=2, alpha=0.2)\n",
    "\n",
    "    # Lower wall bias: should hopefully be near zero for most of the simulation\n",
    "    ax7 = fig.add_subplot(243)\n",
    "    ax7.set_xlabel(\"Time [ns]\", labelpad=10)\n",
    "    ax7.set_ylabel(\"Bias [kJ/mol]\", labelpad=10)\n",
    "    ax7.set_title(\"Lower Wall Bias\", pad=10)\n",
    "    ax7.scatter(df[\"time\"]/1e3, df[\"lower_wall.bias\"], s=2, alpha=0.2)\n",
    "\n",
    "    # Upper wall bias: should hopefully be near zero for most of the simulation \n",
    "    ax8 = fig.add_subplot(244)\n",
    "    ax8.set_xlabel(\"Time [ns]\", labelpad=10)\n",
    "    ax8.set_ylabel(\"Bias [kJ/mol]\", labelpad=10)\n",
    "    ax8.set_title(\"Upper Wall Bias\", pad=10)\n",
    "    ax8.scatter(df[\"time\"]/1e3, df[\"upper_wall.bias\"], s=2, alpha=0.2)\n",
    "\n",
    "    # OPES time constant: should increase and converge to a constant as the bias becomes quasi-static\n",
    "    ax3 = fig.add_subplot(245)\n",
    "    ax3.set_xlabel(\"Time [ns]\", labelpad=10)\n",
    "    ax3.set_ylabel(\"$c{(t)}$\", labelpad=10)\n",
    "    ax3.set_title(\"Quasi-Static Bias\", pad=10)\n",
    "    ax3.plot(df[\"time\"]/1e3, df[\"opes.rct\"], linewidth=3)\n",
    "\n",
    "    # OPES normalization constant: starts from 1 an changes significantly when a new region of CV space is explored\n",
    "    ax4 = fig.add_subplot(246)\n",
    "    ax4.set_xlabel(\"Time [ns]\", labelpad=10)\n",
    "    ax4.set_ylabel(\"$Z_n$\", labelpad=10)\n",
    "    ax4.set_title(\"CV Exploration\", pad=10)\n",
    "    ax4.plot(df[\"time\"]/1e3, df[\"opes.zed\"], linewidth=3)\n",
    "\n",
    "    # OPES number of effective samples: should be increasing over time with a fixed ratio to the number of samples\n",
    "    ax5 = fig.add_subplot(247)\n",
    "    ax5.set_xlabel(\"Time [ns]\", labelpad=10)\n",
    "    ax5.set_ylabel(\"$n_\\mathrm{eff}$\", labelpad=10)\n",
    "    ax5.set_title(\"Effective Sample Size\", pad=10)\n",
    "    ax5.plot(df[\"time\"]/1e3, df[\"opes.neff\"], linewidth=3)\n",
    "\n",
    "    # OPES number of compressed kernels: should increase and plateau\n",
    "    ax6 = fig.add_subplot(248)\n",
    "    ax6.set_xlabel(\"Time [ns]\", labelpad=10)\n",
    "    ax6.set_ylabel(\"$n_\\mathrm{ker}$\", labelpad=10)\n",
    "    ax6.set_title(\"Compressed Kernels\", pad=10)\n",
    "    ax6.plot(df[\"time\"]/1e3, df[\"opes.nker\"], linewidth=3)\n",
    "\n",
    "    # save figure\n",
    "    fig.tight_layout()\n",
    "    fig.savefig(f\"{dir_fig}/{fname}.png\", dpi=600, bbox_inches=\"tight\")\n",
    "    fig.savefig(f\"{dir_fig}/{fname}.pdf\", dpi=1200, bbox_inches=\"tight\", transparent=True)\n",
    "\n",
    "    return fig\n"
   ]
  },
  {
   "cell_type": "code",
   "execution_count": null,
   "metadata": {},
   "outputs": [],
   "source": [
    "# plot bias dynamics for base replica\n",
    "fname = \"bias_dynamics\"\n",
    "\n",
    "if opes:\n",
    "    fig = fig_bias_dynamics(data, fname)\n"
   ]
  },
  {
   "cell_type": "code",
   "execution_count": null,
   "metadata": {},
   "outputs": [],
   "source": [
    "# plot bias dynamics for all replicas\n",
    "if hrex and opes:\n",
    "    for rep in range(8):\n",
    "        fname = f\"bias_dynamics_replica_{rep:02d}\"\n",
    "        fig = fig_bias_dynamics(all_data[rep], fname)\n",
    "        plt.close(fig)\n"
   ]
  },
  {
   "cell_type": "code",
   "execution_count": null,
   "metadata": {},
   "outputs": [],
   "source": [
    "# plot the collective variable for all replicas\n",
    "fname = \"cv_dynamics\"\n",
    "\n",
    "if hrex:\n",
    "    fig = plt.figure(figsize=(20, 9))\n",
    "\n",
    "    for i in range(8):\n",
    "        ax = fig.add_subplot(2, 4, i+1)\n",
    "        ax.set_xlabel(\"Time [ns]\", labelpad=10)\n",
    "        ax.set_ylabel(\"$z$ [nm]\", labelpad=10)\n",
    "        ax.set_title(f\"Replica {i+1}\", pad=10)\n",
    "        ax.scatter(all_data[i][\"time\"]/1e3, all_data[i][\"dist_chain.z\"], s=1, alpha=0.2)\n",
    "\n",
    "    fig.tight_layout()\n",
    "\n",
    "    # save figure\n",
    "    fig.savefig(f\"{dir_fig}/{fname}.png\", dpi=600, bbox_inches=\"tight\")\n",
    "    fig.savefig(f\"{dir_fig}/{fname}.pdf\", dpi=1200, bbox_inches=\"tight\", transparent=True)\n"
   ]
  },
  {
   "cell_type": "markdown",
   "metadata": {},
   "source": [
    "### Convergence of the free energy surface"
   ]
  },
  {
   "cell_type": "code",
   "execution_count": null,
   "metadata": {},
   "outputs": [],
   "source": [
    "def fes_dist(\n",
    "        x: np.ndarray, \n",
    "        weights: np.ndarray = None, \n",
    "        bandwidth: float = 0.1,\n",
    "        x_grid: np.ndarray = None,\n",
    "        min_val: float = None,\n",
    "        max_val: float = None,\n",
    "        n_grid: int = 300,\n",
    "        d3_coord: bool = False,\n",
    "    ) -> tuple[np.ndarray, np.ndarray]:\n",
    "    \"\"\"Calculate the free energy surface for a given distance collective variable.\n",
    "\n",
    "    Parameters\n",
    "    ----------\n",
    "    x : np.ndarray\n",
    "        Array of distances.\n",
    "    weights : np.ndarray, optional\n",
    "        Array of weights, by default None\n",
    "    bandwidth : float, optional\n",
    "        Bandwidth for kernel density estimation, by default 0.1\n",
    "    x_grid : np.ndarray, optional\n",
    "        Grid of distances to use for KDE, by default None\n",
    "    min_val : float, optional\n",
    "        Minimum value of distance, by default None\n",
    "    max_val : float, optional\n",
    "        Maximum value of distance, by default None\n",
    "    n_grid : int, optional\n",
    "        Number of grid points to use for KDE, by default 300\n",
    "    d3_coord : bool, optional\n",
    "        Whether the distance is a 3D coordinate, by default False\n",
    "    \n",
    "    Returns\n",
    "    -------\n",
    "    tuple[np.ndarray, np.ndarray]\n",
    "        Tuple of arrays of distances and free energies.\n",
    "\n",
    "    Raises\n",
    "    ------\n",
    "    ValueError\n",
    "        If `min_val` is not less than `max_val`.\n",
    "    \"\"\"\n",
    "    # input checking\n",
    "    if not isinstance(x, np.ndarray):\n",
    "        x = np.array(x)\n",
    "    if weights is None:\n",
    "        weights = np.ones_like(x)\n",
    "    if not isinstance(weights, np.ndarray):\n",
    "        weights = np.array(weights)\n",
    "    \n",
    "    # set kde domain\n",
    "    if x_grid is None:\n",
    "        if min_val is None:\n",
    "            min_val = np.nanmin(x)\n",
    "        if max_val is None:\n",
    "            max_val = np.nanmax(x)\n",
    "        if min_val >= max_val:\n",
    "            raise ValueError(f\"min_val ({min_val}) must be less than max_val ({max_val})\")\n",
    "        x_grid = np.linspace(min_val, max_val, n_grid)\n",
    "    \n",
    "    # calculate KDE of x weighted by weights\n",
    "    kde = stats.gaussian_kde(x, weights=weights, bw_method=bandwidth)\n",
    "    fes = - kde.logpdf(x_grid)\n",
    "\n",
    "    # apply distance correction\n",
    "    if d3_coord:\n",
    "        fes += 2.0 * np.log(x_grid)\n",
    "\n",
    "    # set minimum to zero\n",
    "    fes -= np.nanmin(fes)\n",
    "\n",
    "    return x_grid, fes\n"
   ]
  },
  {
   "cell_type": "code",
   "execution_count": null,
   "metadata": {},
   "outputs": [],
   "source": [
    "def fe_diff(cv: np.ndarray, pmf: np.ndarray, lower_well: tuple[float, float], upper_well: tuple[float, float]) -> float:\n",
    "    \"\"\"\n",
    "    Calculate the difference in free energy between the two wells.\n",
    "\n",
    "    Parameters\n",
    "    ----------\n",
    "    cv : np.ndarray\n",
    "        Array of collective variable values.\n",
    "    pmf : np.ndarray\n",
    "        Array of free energies as a function of collective variable, assumed to be unitless.\n",
    "    lower_well : tuple[float, float]\n",
    "        Tuple of (min, max) values for the lower well.\n",
    "    upper_well : tuple[float, float]\n",
    "        Tuple of (min, max) values for the upper well.\n",
    "    \n",
    "    Returns\n",
    "    -------\n",
    "    float\n",
    "        Difference in free energy between the two wells. Unitless.\n",
    "    \"\"\"\n",
    "    assert len(lower_well) == 2, \"Lower well domain must have upper and lower bounds\"\n",
    "    assert len(upper_well) == 2, \"Upper well domain must have upper and lower bounds\"\n",
    "    assert len(pmf) == len(cv), \"PMF and CV must have the same size\"\n",
    "\n",
    "    # get indices of lower and upper wells\n",
    "    lower_well_idx = np.where((cv > lower_well[0]) & (cv < lower_well[1]))\n",
    "    upper_well_idx = np.where((cv > upper_well[0]) & (cv < upper_well[1]))\n",
    "\n",
    "    # integrate boltzmann factors of wells to get probabilities\n",
    "    boltzmann = np.exp(-pmf)\n",
    "    prob_upper = integrate.simpson(boltzmann[upper_well_idx], x=cv[upper_well_idx])\n",
    "    prob_lower = integrate.simpson(boltzmann[lower_well_idx], x=cv[lower_well_idx])\n",
    "\n",
    "    # calculate free energy difference as log of ratio of probabilities\n",
    "    delta_fe = - np.log(prob_lower / prob_upper)\n",
    "    return delta_fe\n"
   ]
  },
  {
   "cell_type": "markdown",
   "metadata": {},
   "source": [
    "### PMF estimate"
   ]
  },
  {
   "cell_type": "code",
   "execution_count": null,
   "metadata": {},
   "outputs": [],
   "source": [
    "# extract CV and weight data from base replica\n",
    "df = data.copy()\n",
    "start_time = df[\"time\"].max() * start_frame_perc\n",
    "log.info(f\"Initial time for analysis: {start_time/1e3} ns\")\n",
    "df_fes_in = df[df[\"time\"] >= (df[\"time\"].max() * start_frame_perc)].copy()\n",
    "arr_cv = df_fes_in[cv].to_numpy()\n",
    "arr_weight = df_fes_in[\"weight\"].to_numpy()\n",
    "\n",
    "log.debug(f\"Number of samples: {len(arr_cv)}\")\n",
    "\n",
    "# calculate FES for the base replica\n",
    "x_grid, fes = fes_dist(\n",
    "    arr_cv,\n",
    "    weights=arr_weight,\n",
    "    bandwidth=bandwidth, \n",
    "    x_grid=np.linspace(min_val, max_val, n_grid),\n",
    "    d3_coord=False,\n",
    ")\n",
    "\n",
    "# save data\n",
    "df_fes = pd.DataFrame({\"cv\": x_grid, \"fes\": fes})\n",
    "df_fes.to_csv(dir_data / \"fes.csv\", index=False)\n"
   ]
  },
  {
   "cell_type": "code",
   "execution_count": null,
   "metadata": {},
   "outputs": [],
   "source": [
    "# plot free energy surface\n",
    "fname = \"pmf\"\n",
    "\n",
    "fig = plt.figure()\n",
    "ax = fig.add_subplot(111)\n",
    "ax.set_title(\"Potential of Mean Force\", pad=10)\n",
    "ax.set_xlabel(r\"$z$ [nm]\", labelpad=10)\n",
    "ax.set_ylabel(r\"$\\Delta F$ [$k_\\mathrm{B}T$]\", labelpad=10)\n",
    "ax.set_ylim((0, ymax))\n",
    "ax.plot(x_grid, fes, linewidth=3)\n",
    "\n",
    "# save figure\n",
    "fig.tight_layout()\n",
    "fig.savefig(f\"{dir_fig}/{fname}.png\", dpi=600, bbox_inches=\"tight\")\n",
    "fig.savefig(f\"{dir_fig}/{fname}.pdf\", dpi=1200, bbox_inches=\"tight\", transparent=True)\n"
   ]
  },
  {
   "cell_type": "markdown",
   "metadata": {},
   "source": [
    "### Convergence of the free energy surface"
   ]
  },
  {
   "cell_type": "code",
   "execution_count": null,
   "metadata": {},
   "outputs": [],
   "source": [
    "# calculate the free energy difference as a function of time\n",
    "times = np.linspace(start_time + 1000, df[\"time\"].max(), n_timestep_plot)\n",
    "x_grid = np.linspace(min_val, max_val, n_grid)\n",
    "pmfs = np.zeros((len(times), len(x_grid)))\n",
    "delta_fes = np.zeros(len(times))\n",
    "\n",
    "for i, t in tqdm(enumerate(times), total=len(times)):\n",
    "    # calculate PMF estimate at time t\n",
    "    cv_data = df_fes_in[df_fes_in[\"time\"] <= t][cv].to_numpy()\n",
    "    weight_data = df_fes_in[df_fes_in[\"time\"] <= t][\"weight\"].to_numpy()\n",
    "    x, pmf = fes_dist(\n",
    "            cv_data,\n",
    "            weights=weight_data,\n",
    "            bandwidth=bandwidth, \n",
    "            x_grid=x_grid,\n",
    "        )\n",
    "    pmfs[i] = pmf\n",
    "\n",
    "    # calculate free energy difference from PMF estimate\n",
    "    delta_fes[i] = fe_diff(\n",
    "        x,\n",
    "        pmf,\n",
    "        lower_well=lower_well,\n",
    "        upper_well=upper_well,\n",
    "    )\n",
    "\n",
    "# save pmfs data as compressed npz with x_grid and times\n",
    "np.savez_compressed(dir_data / \"pmfs.npz\", x_grid=x_grid, times=times, pmfs=pmfs)\n",
    "\n",
    "# save delta FES data\n",
    "df_delta_fes = pd.DataFrame({\"time\": times, \"delta_fes\": delta_fes})\n",
    "df_delta_fes.to_csv(dir_data / \"delta_fes.csv\", index=False)\n"
   ]
  },
  {
   "cell_type": "markdown",
   "metadata": {},
   "source": [
    "#### Free energy difference between the two states"
   ]
  },
  {
   "cell_type": "code",
   "execution_count": null,
   "metadata": {},
   "outputs": [],
   "source": [
    "# plot the free energy difference as a function of time\n",
    "fname = \"pmf_diff_dynamics\"\n",
    "\n",
    "fig = plt.figure()\n",
    "ax = fig.add_subplot(1, 1, 1)\n",
    "ax.set_xlabel(\"Time [ns]\")\n",
    "ax.set_ylabel(r\"$\\Delta F$ [$k_\\mathrm{B} T$]\")\n",
    "ax.set_title(\n",
    "    f\"$F({lower_well[0]} \\leq r \\leq {lower_well[1]}) - F({upper_well[0]} \\leq r \\leq {upper_well[1]})$\", \n",
    "    y=1.03, \n",
    "    fontsize=20,\n",
    ")\n",
    "\n",
    "# add horizontal lines that are delta_fes[-1] +- 0.5\n",
    "ax.axhline(delta_fes[-1] - 0.5, linestyle=\"--\", color=\"k\")\n",
    "ax.axhline(delta_fes[-1] + 0.5, linestyle=\"--\", color=\"k\")\n",
    "# fill in horizontal region between lines with opacity 0.2\n",
    "ax.fill_between(\n",
    "    [times[0]/1e3, times[-1]/1e3],\n",
    "    delta_fes[-1] - 0.5, \n",
    "    delta_fes[-1] + 0.5, \n",
    "    alpha=0.1,\n",
    "    color=\"k\",\n",
    ")\n",
    "# plot delta F\n",
    "ax.plot(times/1e3, delta_fes, linewidth=3)\n",
    "\n",
    "# set ylim top to ymax if it is greater than ymax\n",
    "if ymax is not None:\n",
    "    if max(delta_fes) > ymax:\n",
    "        ax.set_ylim(top=ymax)\n",
    "    if min(delta_fes) < -ymax:\n",
    "        ax.set_ylim(bottom=-ymax)\n",
    "ax.set_ylim((-ymax, ymax))\n",
    "\n",
    "# save figure\n",
    "fig.tight_layout()\n",
    "fig.savefig(f\"{dir_fig}/{fname}.png\", dpi=600, bbox_inches=\"tight\")\n",
    "fig.savefig(f\"{dir_fig}/{fname}.pdf\", dpi=1200, bbox_inches=\"tight\", transparent=True)\n"
   ]
  },
  {
   "cell_type": "markdown",
   "metadata": {},
   "source": [
    "#### Movie"
   ]
  },
  {
   "cell_type": "code",
   "execution_count": null,
   "metadata": {},
   "outputs": [],
   "source": [
    "# plot the free energy surface as a function of time as a movie\n",
    "fname = f\"{dir_fig}/pmf_movie.mp4\"\n",
    "start_frame = int(start_frame_perc * len(data))\n",
    "\n",
    "# setup figure\n",
    "fig = plt.figure()\n",
    "ax = fig.add_subplot(111)\n",
    "ax.set_xlabel(r\"$z$ [nm]\", labelpad=10)\n",
    "ax.set_ylabel(r\"$\\Delta F$ [$k_\\mathrm{B}T$]\", labelpad=10)\n",
    "ax.set_ylim((0, ymax))\n",
    "ax.set_title(\"Potential of Mean Force\", pad=10)\n",
    "\n",
    "# initialize plot elements\n",
    "idx = 0\n",
    "curve = ax.plot(x_grid, np.zeros_like(x_grid), linewidth=3)\n",
    "text = ax.text(0.5, 0.9, f\"$t_f = ${times[idx]/1e3:.2f} ns\", transform=ax.transAxes, ha=\"center\")\n",
    "\n",
    "def animate(frame_num: int):\n",
    "    global idx, times\n",
    "    global curve, text\n",
    "\n",
    "    curve[0].set_ydata(pmfs[idx])\n",
    "    time = times[idx] / 1e3\n",
    "    text.set_text(f\"$t_f = $ {time:.1f} ns\")\n",
    "    idx += 1\n",
    "\n",
    "    return curve, text\n",
    "\n",
    "\n",
    "# animate\n",
    "n_frames = len(times) - 1\n",
    "log.debug(f\"Number of frames: {n_frames}\")\n",
    "log.info(f\"Creating animation\")\n",
    "anim = animation.FuncAnimation(\n",
    "    fig, \n",
    "    animate, \n",
    "    blit=True,\n",
    "    frames=n_frames,\n",
    ")\n",
    "\n",
    "# create tqdm progress bar\n",
    "log.info(f\"Saving animation as {fname}\")\n",
    "prog = tqdm(total=n_frames, desc=\"Saving animation\", unit=\"frame\", dynamic_ncols=True, colour=\"green\")\n",
    "\n",
    "# save animation as mp4 and output tqdm progress bar\n",
    "anim.save(\n",
    "    fname, \n",
    "    writer=\"ffmpeg\", \n",
    "    fps=30, \n",
    "    dpi=300,\n",
    "    progress_callback=lambda i, _: prog.update(1),\n",
    ")\n",
    "plt.close()\n",
    "\n",
    "# display video in notebook\n",
    "log.info(f\"Displaying animation\")\n",
    "video = display.Video(fname, embed=True, width=700)\n",
    "display.display(video)\n"
   ]
  },
  {
   "cell_type": "code",
   "execution_count": null,
   "metadata": {},
   "outputs": [],
   "source": []
  }
 ],
 "metadata": {
  "kernelspec": {
   "display_name": "Python 3 (ipykernel)",
   "language": "python",
   "name": "python3"
  },
  "language_info": {
   "codemirror_mode": {
    "name": "ipython",
    "version": 3
   },
   "file_extension": ".py",
   "mimetype": "text/x-python",
   "name": "python",
   "nbconvert_exporter": "python",
   "pygments_lexer": "ipython3",
   "version": "3.11.0"
  }
 },
 "nbformat": 4,
 "nbformat_minor": 2
}
